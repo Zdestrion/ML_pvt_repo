{
  "nbformat": 4,
  "nbformat_minor": 0,
  "metadata": {
    "anaconda-cloud": {},
    "kernelspec": {
      "display_name": "Python 3",
      "language": "python",
      "name": "python3"
    },
    "language_info": {
      "codemirror_mode": {
        "name": "ipython",
        "version": 3
      },
      "file_extension": ".py",
      "mimetype": "text/x-python",
      "name": "python",
      "nbconvert_exporter": "python",
      "pygments_lexer": "ipython3",
      "version": "3.5.2"
    },
    "colab": {
      "name": "Copy of NB_randomforest_ising2D_LC2_2020.ipynb",
      "provenance": [],
      "collapsed_sections": [],
      "include_colab_link": true
    },
    "accelerator": "GPU"
  },
  "cells": [
    {
      "cell_type": "markdown",
      "metadata": {
        "id": "view-in-github",
        "colab_type": "text"
      },
      "source": [
        "<a href=\"https://colab.research.google.com/github/Zdestrion/ML_pvt_repo/blob/master/NB_randomforest_ising2D_LC2_2020_Fuiano.ipynb\" target=\"_parent\"><img src=\"https://colab.research.google.com/assets/colab-badge.svg\" alt=\"Open In Colab\"/></a>"
      ]
    },
    {
      "cell_type": "markdown",
      "metadata": {
        "id": "EGRt2VfXsBRl",
        "colab_type": "text"
      },
      "source": [
        "# Classificazione stato di un modello di Ising 2D con Random Forests"
      ]
    },
    {
      "cell_type": "code",
      "metadata": {
        "id": "30WstVVD1cLP",
        "colab_type": "code",
        "outputId": "7b5ad066-6fa7-4259-ff8d-a176c8d8f1b8",
        "colab": {
          "base_uri": "https://localhost:8080/",
          "height": 35
        }
      },
      "source": [
        "from google.colab import drive\n",
        "drive.mount('/content/drive')"
      ],
      "execution_count": 0,
      "outputs": [
        {
          "output_type": "stream",
          "text": [
            "Drive already mounted at /content/drive; to attempt to forcibly remount, call drive.mount(\"/content/drive\", force_remount=True).\n"
          ],
          "name": "stdout"
        }
      ]
    },
    {
      "cell_type": "markdown",
      "metadata": {
        "id": "UmiJY2e0sBRn",
        "colab_type": "text"
      },
      "source": [
        "### Informazioni ###\n",
        "\n",
        "scopo: imparare ad usare ensamble di modelli deboli tipo foreste random di alberi a decisione binaria \n",
        "applicazione: classificazione dello fase in cui si trovano configurazioni d i un modello di Ising 2D\n",
        "ML tool: cikit-learn\n",
        "\n",
        "\n",
        "### Modello di Ising 2D ###\n",
        "\n",
        "dettagli (definizione teorica e simulazione) nella [nota](https://vixra.org/pdf/1710.0021v2.pdf).\n",
        "\n",
        "È definito su un reticolo bidimensionale dall'Hamiltoniana \n",
        "\n",
        "$$ H = -J\\sum_{\\langle ij\\rangle}S_{i}S_j,\\qquad \\qquad S_j\\in\\{\\pm 1\\} $$\n",
        "\n",
        "in cui gli indici del reticolo $i,j$ sono associati ai primi vicini di un reticolo 2D quadrato di lato $L$, e $J$ è un parametro di scala arbitrario che definisce la scala dell'energia di interazione tra gli spin $S_i$.\n",
        "Si utilizzano condizioni periodiche al contorno sul reticolo.\n",
        "\n",
        "Si dimostra che questo sistema presenta una transizione di fase nel limite termodinamico da un sistea ordinato con tutti gli spin allineati (ferromagnete ordinato) a una fase disordinata con spin random, alla temperatura critica $T_c/J=1/\\log(1+\\sqrt{2})\\approx 2.26$. \n",
        "\n",
        "\n",
        "**Dataset:**\n",
        "\n",
        "100k configurazioni con $T/J$ uniforme in $[0,5]$ di un modello ising 2D su un reticolo $28\\times 28$ simulato tramite un semplice Monte Carlo tipo Metropolis. \n",
        "\n",
        "Il campione è disponibile qui:\n",
        "\n",
        "* [configurazioni](https://www.dropbox.com/s/ma1n1r2uejb9iei/ising_conf.dat?dl=0)\n",
        "* [label](https://www.dropbox.com/s/dj1urxh8tsadoh5/ising_label.dat?dl=0)\n",
        "\n",
        "NOTA: le configurazioni sono 28x28 valori dello spin, le label sono la temperatura associata ad ogni configurazione.\n",
        "\n",
        "Poiché è noto che vicino alla temepratura critica $T_c$, la lunghezza delle correlazioni ferromagnetiche diverge, rendendo difficile identificare la fase, dvideremo il campione in tre sotto-campioni:\n",
        "\n",
        "* ordinato: $T/J<2.0$\n",
        "* critico: $2.0\\leq T/J\\leq 2.5$\n",
        "* disordinato: $T/J>2.5$\n",
        "\n",
        "e addestreremo il modello usando solo le configurazioni ordinate e disordinate. Poi testeremo il tutto su tutte le configurazioni."
      ]
    },
    {
      "cell_type": "markdown",
      "metadata": {
        "id": "Cx1fqjsbsBRo",
        "colab_type": "text"
      },
      "source": [
        "### Parte 1: load e pre-processamento del dataset ###"
      ]
    },
    {
      "cell_type": "code",
      "metadata": {
        "id": "zgM3io6PsBRp",
        "colab_type": "code",
        "colab": {}
      },
      "source": [
        "import numpy as np\n",
        "\n",
        "np.random.seed() # shuffle random seed generator\n",
        "\n",
        "# Ising model parameters\n",
        "L=28 # size del reticolo\n",
        "J=1.0 # Ising interaction (1 ferromagnetico, -1 anti-ferromagnetico)\n",
        "T_c=2.26 # Temperatura critica"
      ],
      "execution_count": 0,
      "outputs": []
    },
    {
      "cell_type": "code",
      "metadata": {
        "id": "q4FweP6jsBRt",
        "colab_type": "code",
        "outputId": "073cdc14-e227-4e20-894c-694000fcef22",
        "colab": {
          "base_uri": "https://localhost:8080/",
          "height": 35
        }
      },
      "source": [
        "#leggiamo le configurazioni ising dal file usando numpy (100k esempi oguno da 28x28 spin)\n",
        "data = np.loadtxt('/content/drive/My Drive/Colab Notebooks/dataset/ising_conf.dat')\n",
        "print(data.shape)"
      ],
      "execution_count": 0,
      "outputs": [
        {
          "output_type": "stream",
          "text": [
            "(2800000, 28)\n"
          ],
          "name": "stdout"
        }
      ]
    },
    {
      "cell_type": "markdown",
      "metadata": {
        "id": "qX4iVO4msBRy",
        "colab_type": "text"
      },
      "source": [
        "NOTA: gli esempi sono scritti nel file come righe sequenziali da 28 valori l'una -> 100k x 28 = 2800000 "
      ]
    },
    {
      "cell_type": "code",
      "metadata": {
        "id": "Tt6u-TcjsBRz",
        "colab_type": "code",
        "outputId": "a64117b8-aa02-459b-e624-89ca2ca43aca",
        "colab": {
          "base_uri": "https://localhost:8080/",
          "height": 35
        }
      },
      "source": [
        "# al fine di visualizzare alcune delle configurazioni convertiamo il vettore numpy un tensore di 100K eventi ognuno \n",
        "# formato da una matrice 28x28 di spin\n",
        "data = data.reshape(100000,28,28)\n",
        "print(data.shape)"
      ],
      "execution_count": 0,
      "outputs": [
        {
          "output_type": "stream",
          "text": [
            "(100000, 28, 28)\n"
          ],
          "name": "stdout"
        }
      ]
    },
    {
      "cell_type": "code",
      "metadata": {
        "id": "uM0oGcILsBR2",
        "colab_type": "code",
        "outputId": "846c742f-f188-46c6-ea1b-c259f8ff34e8",
        "colab": {
          "base_uri": "https://localhost:8080/",
          "height": 988
        }
      },
      "source": [
        "#esempio\n",
        "print(data[2]) #stampa 3zo evento una matrice 28x28 di valori dello spin (-1,1)"
      ],
      "execution_count": 0,
      "outputs": [
        {
          "output_type": "stream",
          "text": [
            "[[ 1. -1.  1.  1. -1.  1. -1.  1. -1.  1. -1.  1. -1.  1.  1.  1. -1.  1.\n",
            "  -1.  1. -1.  1. -1.  1. -1.  1.  1.  1.]\n",
            " [ 1.  1.  1. -1. -1.  1. -1.  1.  1.  1. -1. -1. -1. -1.  1.  1. -1. -1.\n",
            "   1.  1.  1.  1.  1.  1.  1.  1.  1.  1.]\n",
            " [ 1.  1.  1.  1. -1. -1. -1.  1. -1. -1. -1. -1. -1. -1. -1.  1.  1.  1.\n",
            "   1.  1. -1.  1.  1.  1.  1.  1.  1. -1.]\n",
            " [ 1.  1.  1.  1.  1.  1. -1. -1. -1. -1. -1. -1. -1. -1. -1. -1.  1.  1.\n",
            "   1.  1.  1.  1.  1.  1.  1.  1.  1.  1.]\n",
            " [-1.  1.  1.  1.  1. -1. -1. -1. -1. -1. -1.  1. -1.  1.  1.  1. -1.  1.\n",
            "   1.  1.  1.  1.  1. -1.  1.  1.  1.  1.]\n",
            " [ 1.  1.  1.  1.  1.  1. -1.  1.  1. -1. -1. -1. -1.  1.  1.  1.  1.  1.\n",
            "   1.  1.  1.  1.  1.  1.  1.  1. -1.  1.]\n",
            " [-1. -1. -1. -1. -1. -1. -1.  1.  1.  1. -1. -1. -1. -1.  1.  1.  1.  1.\n",
            "   1.  1.  1.  1.  1.  1.  1.  1. -1.  1.]\n",
            " [-1. -1.  1.  1. -1. -1. -1. -1. -1. -1. -1. -1. -1.  1.  1.  1.  1.  1.\n",
            "   1.  1.  1.  1.  1.  1.  1.  1.  1.  1.]\n",
            " [-1. -1.  1.  1. -1.  1.  1. -1. -1. -1. -1. -1.  1.  1.  1.  1. -1.  1.\n",
            "  -1.  1.  1.  1.  1.  1.  1.  1.  1.  1.]\n",
            " [ 1. -1. -1. -1.  1.  1.  1. -1. -1. -1. -1. -1. -1. -1. -1. -1. -1. -1.\n",
            "   1.  1.  1.  1.  1.  1.  1.  1.  1.  1.]\n",
            " [ 1. -1. -1.  1.  1.  1. -1. -1. -1. -1. -1. -1.  1. -1. -1. -1. -1. -1.\n",
            "  -1.  1.  1.  1.  1.  1. -1. -1. -1. -1.]\n",
            " [ 1. -1. -1. -1. -1.  1. -1. -1. -1. -1. -1. -1. -1. -1. -1. -1. -1. -1.\n",
            "  -1.  1.  1.  1.  1.  1. -1. -1. -1. -1.]\n",
            " [ 1. -1. -1.  1. -1. -1. -1. -1. -1. -1. -1. -1. -1. -1. -1.  1.  1.  1.\n",
            "   1.  1.  1. -1.  1.  1.  1.  1. -1.  1.]\n",
            " [ 1.  1. -1.  1. -1. -1. -1. -1. -1. -1. -1. -1. -1. -1.  1.  1.  1.  1.\n",
            "   1.  1.  1. -1.  1.  1.  1.  1.  1.  1.]\n",
            " [ 1.  1.  1.  1.  1. -1. -1. -1. -1. -1. -1. -1. -1.  1.  1.  1.  1.  1.\n",
            "   1.  1.  1. -1.  1.  1.  1.  1.  1.  1.]\n",
            " [ 1.  1.  1.  1.  1.  1. -1. -1. -1. -1. -1. -1. -1.  1.  1. -1. -1. -1.\n",
            "   1.  1.  1.  1.  1.  1.  1.  1.  1.  1.]\n",
            " [ 1.  1.  1.  1.  1. -1. -1. -1. -1. -1. -1. -1. -1.  1.  1.  1. -1. -1.\n",
            "  -1. -1.  1. -1.  1.  1.  1.  1.  1.  1.]\n",
            " [ 1.  1.  1.  1.  1. -1. -1. -1. -1. -1. -1. -1. -1. -1. -1. -1. -1. -1.\n",
            "  -1. -1.  1.  1.  1.  1.  1.  1.  1.  1.]\n",
            " [ 1.  1.  1.  1.  1. -1. -1. -1. -1. -1. -1. -1. -1. -1. -1. -1. -1. -1.\n",
            "  -1. -1. -1. -1.  1.  1.  1.  1.  1.  1.]\n",
            " [ 1.  1.  1.  1.  1. -1.  1. -1.  1.  1.  1. -1. -1. -1. -1. -1. -1.  1.\n",
            "   1. -1. -1.  1.  1. -1.  1.  1.  1.  1.]\n",
            " [ 1.  1.  1.  1.  1. -1.  1.  1.  1.  1.  1. -1. -1. -1. -1. -1.  1.  1.\n",
            "   1. -1.  1.  1.  1.  1.  1.  1.  1.  1.]\n",
            " [ 1.  1.  1.  1.  1.  1.  1.  1.  1.  1.  1.  1.  1.  1. -1. -1.  1.  1.\n",
            "   1.  1.  1.  1.  1. -1. -1. -1. -1.  1.]\n",
            " [ 1.  1.  1.  1.  1.  1.  1.  1. -1. -1.  1.  1.  1.  1.  1. -1.  1.  1.\n",
            "   1.  1.  1.  1. -1. -1. -1. -1. -1.  1.]\n",
            " [ 1.  1.  1.  1. -1.  1.  1. -1. -1. -1. -1.  1.  1.  1.  1.  1.  1.  1.\n",
            "  -1.  1.  1.  1.  1. -1. -1. -1. -1.  1.]\n",
            " [ 1.  1.  1.  1.  1.  1.  1.  1. -1. -1. -1.  1.  1.  1.  1.  1.  1.  1.\n",
            "   1.  1.  1.  1.  1. -1. -1. -1. -1. -1.]\n",
            " [ 1.  1.  1.  1.  1.  1.  1.  1. -1. -1. -1.  1.  1.  1.  1.  1.  1.  1.\n",
            "  -1.  1.  1.  1.  1. -1. -1. -1. -1.  1.]\n",
            " [ 1.  1.  1.  1.  1.  1.  1.  1. -1. -1. -1.  1.  1.  1.  1.  1.  1.  1.\n",
            "   1.  1.  1.  1. -1.  1. -1. -1. -1. -1.]\n",
            " [ 1.  1.  1.  1.  1.  1.  1.  1. -1. -1. -1. -1. -1. -1.  1.  1.  1.  1.\n",
            "  -1.  1.  1.  1.  1.  1.  1.  1.  1.  1.]]\n"
          ],
          "name": "stdout"
        }
      ]
    },
    {
      "cell_type": "code",
      "metadata": {
        "id": "5x3tsxHFsBR5",
        "colab_type": "code",
        "outputId": "bd818bda-24fb-456f-a3cd-a02686d380fa",
        "colab": {
          "base_uri": "https://localhost:8080/",
          "height": 52
        }
      },
      "source": [
        "#leggiamo da file le label associate:\n",
        "labels = np.loadtxt('/content/drive/My Drive/Colab Notebooks/dataset/ising_label.dat')\n",
        "print(labels.shape)\n",
        "print(labels[3]) #temperatura della configurazione del 4to evento"
      ],
      "execution_count": 0,
      "outputs": [
        {
          "output_type": "stream",
          "text": [
            "(100000,)\n",
            "1.66324\n"
          ],
          "name": "stdout"
        }
      ]
    },
    {
      "cell_type": "code",
      "metadata": {
        "id": "73vCOwlNsBR8",
        "colab_type": "code",
        "outputId": "afcb2f41-37cb-4da0-aa6e-8be9b594e125",
        "colab": {
          "base_uri": "https://localhost:8080/",
          "height": 156
        }
      },
      "source": [
        "# dividiamo il campione in 3 campioni sulla base dello stato (ordinato, critico, disordinato)\n",
        "# T/J < 2.0 ordinato\n",
        "# T/J > 2.5 disordinato\n",
        "# altrimenti critico\n",
        "\n",
        "#Crea vettori di variabili booleane\n",
        "ord_sele = (labels < 2.0)\n",
        "dis_sele = (labels > 2.5)\n",
        "cri_sele = ((labels >= 2.0) & (labels <= 2.5))\n",
        "    \n",
        "print(cri_sele)\n",
        "\n",
        "data_ord = data[ord_sele]\n",
        "data_dis = data[dis_sele]\n",
        "data_cri = data[cri_sele]\n",
        "\n",
        "print(data_ord.shape) \n",
        "print(data_cri.shape) \n",
        "print(data_dis.shape)   \n",
        "\n",
        "labels_ord = np.zeros(data_ord.shape[0])\n",
        "labels_dis = np.ones(data_dis.shape[0])\n",
        "\n",
        "labels_critic = labels[cri_sele]\n",
        "print(labels_critic)\n",
        "labels_cri = labels_critic.copy()\n",
        "labels_cri[labels_critic>T_c] = 1\n",
        "labels_cri[labels_critic<=T_c] = 0\n",
        "\n",
        "print(labels_ord)\n",
        "print(labels_dis)\n",
        "print(labels_cri)"
      ],
      "execution_count": 0,
      "outputs": [
        {
          "output_type": "stream",
          "text": [
            "[False False  True ... False False False]\n",
            "(40177, 28, 28)\n",
            "(9808, 28, 28)\n",
            "(50015, 28, 28)\n",
            "[2.46347 2.18529 2.17106 ... 2.40353 2.19896 2.47125]\n",
            "[0. 0. 0. ... 0. 0. 0.]\n",
            "[1. 1. 1. ... 1. 1. 1.]\n",
            "[1. 0. 0. ... 1. 0. 1.]\n"
          ],
          "name": "stdout"
        }
      ]
    },
    {
      "cell_type": "code",
      "metadata": {
        "id": "hMP_zMKksBSA",
        "colab_type": "code",
        "outputId": "c54a9f32-92e7-4874-f60b-fcbf042752ed",
        "colab": {
          "base_uri": "https://localhost:8080/",
          "height": 288
        }
      },
      "source": [
        "#una rappresentazione grafica più bella\n",
        "%matplotlib inline \n",
        "\n",
        "#import ml_style as style\n",
        "import matplotlib as mpl\n",
        "import matplotlib.pyplot as plt\n",
        "from mpl_toolkits.axes_grid1 import make_axes_locatable\n",
        "\n",
        "# set colourbar map\n",
        "cmap_args=dict(cmap='plasma_r')\n",
        "\n",
        "# plot states\n",
        "fig, axarr = plt.subplots(nrows=1, ncols=3)\n",
        "\n",
        "axarr[0].imshow(data_ord[4],**cmap_args)\n",
        "axarr[0].set_title('ordered phase',fontsize=16)\n",
        "axarr[0].tick_params(labelsize=16)\n",
        "\n",
        "axarr[1].imshow(data_cri[4],**cmap_args)\n",
        "axarr[1].set_title('critical region',fontsize=16)\n",
        "axarr[1].tick_params(labelsize=16)\n",
        "\n",
        "im=axarr[2].imshow(data_dis[4],**cmap_args)\n",
        "axarr[2].set_title('disordered phase',fontsize=16)\n",
        "axarr[2].tick_params(labelsize=16)\n",
        "\n",
        "fig.subplots_adjust(right=2.0)\n",
        "\n",
        "plt.show()"
      ],
      "execution_count": 0,
      "outputs": [
        {
          "output_type": "display_data",
          "data": {
            "image/png": "[encoded data removed]",
            "text/plain": [
              "<Figure size 432x288 with 3 Axes>"
            ]
          },
          "metadata": {
            "tags": [],
            "needs_background": "light"
          }
        }
      ]
    },
    {
      "cell_type": "code",
      "metadata": {
        "id": "T_ZCie0osBSD",
        "colab_type": "code",
        "outputId": "57758fa5-2c63-4e69-da72-06f0a1974995",
        "colab": {
          "base_uri": "https://localhost:8080/",
          "height": 121
        }
      },
      "source": [
        "##Dividiamo il campione per il training\n",
        "from sklearn.model_selection import train_test_split\n",
        "train_to_test_ratio=0.8 # training samples\n",
        "\n",
        "# define training and test data sets\n",
        "X=np.concatenate((data_ord,data_dis))\n",
        "Y=np.concatenate((labels_ord,labels_dis))\n",
        "\n",
        "# selezioniamo random data points dai campioni ordinati e disordinati per cerare training e test\n",
        "X_train,X_test,Y_train,Y_test=train_test_split(X,Y,train_size=train_to_test_ratio,test_size=1.0-train_to_test_ratio)\n",
        "\n",
        "X_critical = data_cri\n",
        "Y_critical = labels_cri\n",
        "\n",
        "print('X_train shape:', X_train.shape)\n",
        "print('Y_train shape:', Y_train.shape)\n",
        "print()\n",
        "print(X_train.shape[0], 'train samples')\n",
        "print(X_critical.shape[0], 'critical samples')\n",
        "print(X_test.shape[0], 'test samples')\n",
        "\n",
        "# riformattiamo i tensori in modo che abbiano l'input corretto atteso dagli alberi a decisione binaria \n",
        "# (vettori flat di features)   (N,28,28) -> (N, 28*28 = 784)\n",
        "\n",
        "X_train = np.reshape(X_train, (X_train.shape[0], 28*28))\n",
        "X_test = np.reshape(X_test, (X_test.shape[0], 28*28))\n",
        "X_critical = np.reshape(X_critical, (X_critical.shape[0], 28*28))"
      ],
      "execution_count": 0,
      "outputs": [
        {
          "output_type": "stream",
          "text": [
            "X_train shape: (72153, 28, 28)\n",
            "Y_train shape: (72153,)\n",
            "\n",
            "72153 train samples\n",
            "9808 critical samples\n",
            "18039 test samples\n"
          ],
          "name": "stdout"
        }
      ]
    },
    {
      "cell_type": "markdown",
      "metadata": {
        "id": "bu-KVPbJsBSG",
        "colab_type": "text"
      },
      "source": [
        "### Parte 2: addestramento della Random Forests\n",
        "\n",
        "**Iperparametri**\n",
        "\n",
        "Usiamo l'implementazione in [scikit-learn](https://scikit-learn.org/stable/modules/generated/sklearn.ensemble.RandomForestClassifier.html) che ha due iperparamteri principali che possono modificare anche sensibimente le prestazioni del modello e il livelo di overfit/underfit: il numero di alberi nella foresta e la complessità di ciascun albero: il primo è controllato dal parametro `n_estimators`, mentre la complesiità è controllata da vari parametri `min_samples_split`, `min_samples_leaf`, `min_impurity_decrease`, etc, in parte correlati tra loro. Nell'esempio in esame per semplicità useremo solo `min_samples_split` (governa il numero di campioni necessari per procedere ad uno split di un nodo: più alto è il numero minore sarà la segmentazione e le diramazioni dell'albero.\n",
        "\n",
        "**NOTA: Stime OOB (Out of Bag)**\n",
        "\n",
        "È un metodo molto utile per ottimizzare gli iperparametri quanod si usano metodi di bagging: consiste nel verificare quanto bene funziona il classificatore su qyegli eventi del trainign set che non sono stati usati nel training (perchè non campionati nella technica di boostrap). Gioca un ruolo simile alla k-fold cross-validation."
      ]
    },
    {
      "cell_type": "code",
      "metadata": {
        "id": "v4-NISyrsBSG",
        "colab_type": "code",
        "outputId": "3ca92afe-ec93-42bb-edcf-32a724a0f562",
        "colab": {
          "base_uri": "https://localhost:8080/",
          "height": 1000
        }
      },
      "source": [
        "# Scikit-learn Random Forest\n",
        "from sklearn.ensemble import RandomForestClassifier\n",
        "import time\n",
        "import warnings\n",
        "#disabilitiamo messaggi di warning \n",
        "warnings.filterwarnings(\"ignore\")\n",
        "\n",
        "#Valore del numero di alberi \n",
        "min_estimators = 10\n",
        "max_estimators = 101\n",
        "classifer = RandomForestClassifier\n",
        "\n",
        "n_estimator_range=np.arange(min_estimators, max_estimators, 10) #testiamo 10 valori per il primo iperparametro\n",
        "\n",
        "leaf_size_list=[2,10000] #testiamo due valori per il seocondo iperparametro (alta segmentazione e bassa segmentazione)\n",
        "\n",
        "m=len(n_estimator_range)\n",
        "n=len(leaf_size_list)\n",
        "\n",
        "#Allocate Arrays for various quantities\n",
        "RFC_OOB_accuracy=np.zeros((n,m))\n",
        "RFC_train_accuracy=np.zeros((n,m))\n",
        "RFC_test_accuracy=np.zeros((n,m))\n",
        "RFC_critical_accuracy=np.zeros((n,m))\n",
        "run_time=np.zeros((n,m))\n",
        "\n",
        "print_flag=True\n",
        "\n",
        "for i, leaf_size in enumerate(leaf_size_list):\n",
        "    # Define Random Forest Classifier\n",
        "    myRF_clf = classifer(\n",
        "        n_estimators=min_estimators,\n",
        "        max_depth=None, \n",
        "        min_samples_split=leaf_size, # minimum number of sample per leaf\n",
        "        oob_score=True,\n",
        "        random_state=0,\n",
        "        warm_start=True # When set to True, reuse the solution of the previous call to fit and add more estimators to the ensemble, otherwise, just fit a whole new forest.\n",
        "    )\n",
        "    for j, n_estimator in enumerate(n_estimator_range):\n",
        "        \n",
        "        print('n_estimators: %i, leaf_size: %i'%(n_estimator,leaf_size))\n",
        "        \n",
        "        start_time = time.time()\n",
        "        myRF_clf.set_params(n_estimators=n_estimator)\n",
        "        myRF_clf.fit(X_train, Y_train)\n",
        "        run_time[i,j] = time.time() - start_time\n",
        "\n",
        "    # check accuracy\n",
        "        RFC_train_accuracy[i,j]=myRF_clf.score(X_train,Y_train)\n",
        "        RFC_OOB_accuracy[i,j]=myRF_clf.oob_score_\n",
        "        RFC_test_accuracy[i,j]=myRF_clf.score(X_test,Y_test)\n",
        "        RFC_critical_accuracy[i,j]=myRF_clf.score(X_critical,Y_critical)\n",
        "        if print_flag:\n",
        "            result = (run_time[i,j], RFC_train_accuracy[i,j], RFC_OOB_accuracy[i,j], RFC_test_accuracy[i,j], RFC_critical_accuracy[i,j])\n",
        "            print('{0:<15}{1:<15}{2:<15}{3:<15}{4:<15}'.format(\"time (s)\",\"train score\", \"OOB estimate\",\"test score\", \"critical score\"))\n",
        "            print('{0:<15.4f}{1:<15.4f}{2:<15.4f}{3:<15.4f}{4:<15.4f}'.format(*result))\n"
      ],
      "execution_count": 0,
      "outputs": [
        {
          "output_type": "stream",
          "text": [
            "n_estimators: 10, leaf_size: 2\n",
            "time (s)       train score    OOB estimate   test score     critical score \n",
            "2.4626         1.0000         0.9921         0.9998         0.8019         \n",
            "n_estimators: 20, leaf_size: 2\n",
            "time (s)       train score    OOB estimate   test score     critical score \n",
            "2.7825         1.0000         0.9994         0.9997         0.8142         \n",
            "n_estimators: 30, leaf_size: 2\n",
            "time (s)       train score    OOB estimate   test score     critical score \n",
            "3.0539         1.0000         0.9996         0.9998         0.8148         \n",
            "n_estimators: 40, leaf_size: 2\n",
            "time (s)       train score    OOB estimate   test score     critical score \n",
            "3.3958         1.0000         0.9997         0.9998         0.8205         \n",
            "n_estimators: 50, leaf_size: 2\n",
            "time (s)       train score    OOB estimate   test score     critical score \n",
            "3.6626         1.0000         0.9997         0.9998         0.8193         \n",
            "n_estimators: 60, leaf_size: 2\n",
            "time (s)       train score    OOB estimate   test score     critical score \n",
            "4.0407         1.0000         0.9997         0.9999         0.8218         \n",
            "n_estimators: 70, leaf_size: 2\n",
            "time (s)       train score    OOB estimate   test score     critical score \n",
            "4.3655         1.0000         0.9997         0.9998         0.8192         \n",
            "n_estimators: 80, leaf_size: 2\n",
            "time (s)       train score    OOB estimate   test score     critical score \n",
            "4.8225         1.0000         0.9997         0.9998         0.8193         \n",
            "n_estimators: 90, leaf_size: 2\n",
            "time (s)       train score    OOB estimate   test score     critical score \n",
            "5.1282         1.0000         0.9997         0.9998         0.8188         \n",
            "n_estimators: 100, leaf_size: 2\n",
            "time (s)       train score    OOB estimate   test score     critical score \n",
            "5.4047         1.0000         0.9997         0.9998         0.8167         \n",
            "n_estimators: 10, leaf_size: 10000\n",
            "time (s)       train score    OOB estimate   test score     critical score \n",
            "1.7971         0.8759         0.8847         0.8782         0.6707         \n",
            "n_estimators: 20, leaf_size: 10000\n",
            "time (s)       train score    OOB estimate   test score     critical score \n",
            "2.1357         0.8539         0.8697         0.8560         0.6775         \n",
            "n_estimators: 30, leaf_size: 10000\n",
            "time (s)       train score    OOB estimate   test score     critical score \n",
            "2.3905         0.8913         0.9005         0.8933         0.6768         \n",
            "n_estimators: 40, leaf_size: 10000\n",
            "time (s)       train score    OOB estimate   test score     critical score \n",
            "2.6743         0.9100         0.9081         0.9115         0.6785         \n",
            "n_estimators: 50, leaf_size: 10000\n",
            "time (s)       train score    OOB estimate   test score     critical score \n",
            "2.9027         0.9201         0.9163         0.9219         0.6796         \n",
            "n_estimators: 60, leaf_size: 10000\n",
            "time (s)       train score    OOB estimate   test score     critical score \n",
            "3.2839         0.9106         0.9104         0.9126         0.6765         \n",
            "n_estimators: 70, leaf_size: 10000\n",
            "time (s)       train score    OOB estimate   test score     critical score \n",
            "3.5129         0.9111         0.9101         0.9125         0.6821         \n",
            "n_estimators: 80, leaf_size: 10000\n",
            "time (s)       train score    OOB estimate   test score     critical score \n",
            "3.9453         0.9078         0.9069         0.9095         0.6816         \n",
            "n_estimators: 90, leaf_size: 10000\n",
            "time (s)       train score    OOB estimate   test score     critical score \n",
            "4.1846         0.9094         0.9085         0.9122         0.6774         \n",
            "n_estimators: 100, leaf_size: 10000\n",
            "time (s)       train score    OOB estimate   test score     critical score \n",
            "4.4128         0.9107         0.9087         0.9129         0.6785         \n"
          ],
          "name": "stdout"
        }
      ]
    },
    {
      "cell_type": "markdown",
      "metadata": {
        "id": "Rk2BDx8VsBSJ",
        "colab_type": "text"
      },
      "source": [
        "**Grafico delle prestazioni:**"
      ]
    },
    {
      "cell_type": "code",
      "metadata": {
        "id": "krCdhqw3sBSJ",
        "colab_type": "code",
        "outputId": "ee4d93de-a7d6-4765-b5ef-b999533327f3",
        "colab": {
          "base_uri": "https://localhost:8080/",
          "height": 549
        }
      },
      "source": [
        "plt.figure()\n",
        "plt.plot(n_estimator_range,RFC_train_accuracy[1],'--b^',label='Train (bassa segmentazione)')\n",
        "plt.plot(n_estimator_range,RFC_test_accuracy[1],'--r^',label='Test (bassa segmentazione)')\n",
        "plt.plot(n_estimator_range,RFC_critical_accuracy[1],'--g^',label='Critical (bassa segmentazione)')\n",
        "\n",
        "plt.plot(n_estimator_range,RFC_train_accuracy[0],'o-b',label='Train (alta segmentazione)')\n",
        "plt.plot(n_estimator_range,RFC_test_accuracy[0],'o-r',label='Test (alta segmentazione)')\n",
        "plt.plot(n_estimator_range,RFC_critical_accuracy[0],'o-g',label='Critical (alta segmentazione)')\n",
        "\n",
        "plt.xlabel('$N_\\mathrm{estimators}$')\n",
        "plt.ylabel('Accuracy')\n",
        "lgd=plt.legend(bbox_to_anchor=(1.05, 1), loc=2, borderaxespad=0.)\n",
        "plt.savefig(\"Ising_RF.pdf\",bbox_extra_artists=(lgd,), bbox_inches='tight')\n",
        "\n",
        "plt.show()\n",
        "\n",
        "plt.plot(n_estimator_range, run_time[1], '--k^',label='Bassa segmentazione')\n",
        "plt.plot(n_estimator_range, run_time[0], 'o-k',label='Alta segmentazione')\n",
        "plt.xlabel('$N_\\mathrm{estimators}$')\n",
        "plt.ylabel('Run time (s)')\n",
        "\n",
        "\n",
        "plt.legend(loc=2)\n",
        "#plt.savefig(\"Ising_RF_Runtime.pdf\")\n",
        "\n",
        "plt.show()"
      ],
      "execution_count": 0,
      "outputs": [
        {
          "output_type": "display_data",
          "data": {
            "image/png": "[encoded data removed]",
            "text/plain": [
              "<Figure size 432x288 with 1 Axes>"
            ]
          },
          "metadata": {
            "tags": [],
            "needs_background": "light"
          }
        },
        {
          "output_type": "display_data",
          "data": {
            "image/png": "[encoded data removed]",
            "text/plain": [
              "<Figure size 432x288 with 1 Axes>"
            ]
          },
          "metadata": {
            "tags": [],
            "needs_background": "light"
          }
        }
      ]
    },
    {
      "cell_type": "markdown",
      "metadata": {
        "collapsed": true,
        "id": "1nsF8Q9CsBSO",
        "colab_type": "text"
      },
      "source": [
        "### Esercizi: ###  \n",
        "\n",
        "* provate ad implementare un classificatore basato su un semplice albero di decisione binaria in scikitlearn e confrontare le prestazioni con la foresta random\n",
        "\n",
        "* provate ad implementare un classificatore tipo gradient boost in scikitlearn \n",
        "(*sklearn.ensemble.GradientBoostingClassifier*) ottimizzandone le prestazioni ed evitando overfitting e confrontate con la foresta random\n",
        "\n",
        "* provate a implementare invece che una validazione OOB (gratis con le foreste random in scikit-learn) una k-fold validation (con k=5 e 10) e verificate se vi sono differenze (OOB tende a dare delle stime molto pessimistiche).\n",
        "    \n",
        "NOTA: per imparare ad implementare una k-fold validation in scikit-learn guardate a questo [tutorial](https://scikit-learn.org/stable/modules/cross_validation.html)\n",
        "\n",
        "* (opzionale) provate ad addestrare un modello gradient boost in regressione (*sklearn.ensemble.GradientBoostingRegressor*)che predica le temperature associate alle configurazioni del modello di ising"
      ]
    },
    {
      "cell_type": "markdown",
      "metadata": {
        "id": "zFLUbd5zNnri",
        "colab_type": "text"
      },
      "source": [
        "#ESERCIZI:\n",
        "## Albero a decisione binara\n",
        "Si implementa un albero a decisione binaria utilizzando scikit learn. Si utilizza sia DecisionTreeClassifier che RandomForestClassifier con l'iperparametro n_estimators=1 per confrontare le prestazioni."
      ]
    },
    {
      "cell_type": "code",
      "metadata": {
        "id": "W_92zph8PTN1",
        "colab_type": "code",
        "outputId": "f27478a1-6330-484a-cc0b-159b64e27cec",
        "colab": {
          "base_uri": "https://localhost:8080/",
          "height": 225
        }
      },
      "source": [
        "# Scikit-learn Decision Tree\n",
        "from sklearn.tree import DecisionTreeClassifier\n",
        "import time\n",
        "import warnings\n",
        "#disabilitiamo messaggi di warning \n",
        "warnings.filterwarnings(\"ignore\")\n",
        "\n",
        "classifer = DecisionTreeClassifier\n",
        "\n",
        "leaf_size_list=[2,100,1000,10000] #testiamo due valori per il seocondo iperparametro (alta segmentazione e bassa segmentazione)\n",
        "\n",
        "m=len(n_estimator_range)\n",
        "n=len(leaf_size_list)\n",
        "\n",
        "#Allocate Arrays for various quantities\n",
        "RFC_OOB_accuracy=np.zeros((n,m))\n",
        "RFC_train_accuracy=np.zeros((n,m))\n",
        "RFC_test_accuracy=np.zeros((n,m))\n",
        "RFC_critical_accuracy=np.zeros((n,m))\n",
        "run_time=np.zeros((n,m))\n",
        "\n",
        "print_flag=True\n",
        "\n",
        "for i, leaf_size in enumerate(leaf_size_list):\n",
        "    # Define Decision Tree Classifier\n",
        "    print('leaf_size: %i'%(leaf_size))\n",
        "    myRF_clf = classifer(\n",
        "        max_depth=None, \n",
        "        min_samples_split=leaf_size, # minimum number of sample per leaf\n",
        "        random_state=0,\n",
        "        )\n",
        "\n",
        "    start_time = time.time()\n",
        "    myRF_clf.fit(X_train, Y_train)\n",
        "    run_time[i,j] = time.time() - start_time\n",
        "\n",
        "    # check accuracy\n",
        "    RFC_train_accuracy[i,j]=myRF_clf.score(X_train,Y_train)\n",
        "    RFC_test_accuracy[i,j]=myRF_clf.score(X_test,Y_test)\n",
        "    RFC_critical_accuracy[i,j]=myRF_clf.score(X_critical,Y_critical)\n",
        "    if print_flag:\n",
        "        result = (run_time[i,j], RFC_train_accuracy[i,j], RFC_test_accuracy[i,j], RFC_critical_accuracy[i,j])\n",
        "        print('{0:<15}{1:<15}{2:<15}{3:<15}'.format(\"time (s)\",\"train score\", \"test score\", \"critical score\"))\n",
        "        print('{0:<15.4f}{1:<15.4f}{2:<15.4f}{3:<15.4f}'.format(*result))\n"
      ],
      "execution_count": 0,
      "outputs": [
        {
          "output_type": "stream",
          "text": [
            "leaf_size: 2\n",
            "time (s)       train score    test score     critical score \n",
            "8.2522         1.0000         0.9920         0.7119         \n",
            "leaf_size: 100\n",
            "time (s)       train score    test score     critical score \n",
            "8.1447         0.9880         0.9823         0.6904         \n",
            "leaf_size: 1000\n",
            "time (s)       train score    test score     critical score \n",
            "7.6739         0.9546         0.9512         0.6467         \n",
            "leaf_size: 10000\n",
            "time (s)       train score    test score     critical score \n",
            "5.8786         0.8510         0.8493         0.6036         \n"
          ],
          "name": "stdout"
        }
      ]
    },
    {
      "cell_type": "markdown",
      "metadata": {
        "id": "UMfjOSTAZUrq",
        "colab_type": "text"
      },
      "source": [
        "I risultati sembrano buoni, anche se peggiorano con l'aumentare della leafsize. Si nota però un tempo necessario alla compilazione notevole per la semplicità del compito."
      ]
    },
    {
      "cell_type": "code",
      "metadata": {
        "id": "hzrWt33VRurl",
        "colab_type": "code",
        "outputId": "50a6ca53-5782-4d04-9048-7ce273a37c98",
        "colab": {
          "base_uri": "https://localhost:8080/",
          "height": 225
        }
      },
      "source": [
        "# Scikit-learn Random Forest\n",
        "from sklearn.ensemble import RandomForestClassifier\n",
        "import time\n",
        "import warnings\n",
        "#disabilitiamo messaggi di warning \n",
        "warnings.filterwarnings(\"ignore\")\n",
        "\n",
        "#Valore del numero di alberi \n",
        "min_estimators = 1\n",
        "max_estimators = 2\n",
        "classifer = RandomForestClassifier\n",
        "\n",
        "n_estimator_range=np.arange(min_estimators, max_estimators, 1) #testiamo 10 valori per il primo iperparametro\n",
        "\n",
        "leaf_size_list=[2,100,1000,10000] #testiamo due valori per il seocondo iperparametro (alta segmentazione e bassa segmentazione)\n",
        "\n",
        "m=len(n_estimator_range)\n",
        "n=len(leaf_size_list)\n",
        "\n",
        "#Allocate Arrays for various quantities\n",
        "RFC_OOB_accuracy=np.zeros((n,m))\n",
        "RFC_train_accuracy=np.zeros((n,m))\n",
        "RFC_test_accuracy=np.zeros((n,m))\n",
        "RFC_critical_accuracy=np.zeros((n,m))\n",
        "run_time=np.zeros((n,m))\n",
        "\n",
        "print_flag=True\n",
        "\n",
        "for i, leaf_size in enumerate(leaf_size_list):\n",
        "    # Define Random Forest Classifier\n",
        "    myRF_clf = classifer(\n",
        "        n_estimators=min_estimators,\n",
        "        max_depth=None, \n",
        "        min_samples_split=leaf_size, # minimum number of sample per leaf\n",
        "        oob_score=True,\n",
        "        random_state=0,\n",
        "        warm_start=True # When set to True, reuse the solution of the previous call to fit and add more estimators to the ensemble, otherwise, just fit a whole new forest.\n",
        "    )\n",
        "    for j, n_estimator in enumerate(n_estimator_range):\n",
        "        \n",
        "        print('n_estimators: %i, leaf_size: %i'%(n_estimator,leaf_size))\n",
        "        \n",
        "        start_time = time.time()\n",
        "        myRF_clf.set_params(n_estimators=n_estimator)\n",
        "        myRF_clf.fit(X_train, Y_train)\n",
        "        run_time[i,j] = time.time() - start_time\n",
        "\n",
        "    # check accuracy\n",
        "        RFC_train_accuracy[i,j]=myRF_clf.score(X_train,Y_train)\n",
        "        RFC_OOB_accuracy[i,j]=myRF_clf.oob_score_\n",
        "        RFC_test_accuracy[i,j]=myRF_clf.score(X_test,Y_test)\n",
        "        RFC_critical_accuracy[i,j]=myRF_clf.score(X_critical,Y_critical)\n",
        "        if print_flag:\n",
        "            result = (run_time[i,j], RFC_train_accuracy[i,j], RFC_OOB_accuracy[i,j], RFC_test_accuracy[i,j], RFC_critical_accuracy[i,j])\n",
        "            print('{0:<15}{1:<15}{2:<15}{3:<15}{4:<15}'.format(\"time (s)\",\"train score\", \"OOB estimate\",\"test score\", \"critical score\"))\n",
        "            print('{0:<15.4f}{1:<15.4f}{2:<15.4f}{3:<15.4f}{4:<15.4f}'.format(*result))"
      ],
      "execution_count": 0,
      "outputs": [
        {
          "output_type": "stream",
          "text": [
            "n_estimators: 1, leaf_size: 2\n",
            "time (s)       train score    OOB estimate   test score     critical score \n",
            "0.4469         0.9981         0.6479         0.9936         0.7170         \n",
            "n_estimators: 1, leaf_size: 100\n",
            "time (s)       train score    OOB estimate   test score     critical score \n",
            "0.4240         0.9814         0.6418         0.9790         0.7073         \n",
            "n_estimators: 1, leaf_size: 1000\n",
            "time (s)       train score    OOB estimate   test score     critical score \n",
            "0.4251         0.9546         0.6324         0.9496         0.6313         \n",
            "n_estimators: 1, leaf_size: 10000\n",
            "time (s)       train score    OOB estimate   test score     critical score \n",
            "0.3694         0.8670         0.6002         0.8662         0.6229         \n"
          ],
          "name": "stdout"
        }
      ]
    },
    {
      "cell_type": "markdown",
      "metadata": {
        "id": "4p-8nqJYbxhk",
        "colab_type": "text"
      },
      "source": [
        "Questa seconda prova, nella quale si è utilizzato RandomForestClassifier, non solo risulta migliore nei risultati, ma anche nei tempi. <br />\n",
        "Specialmente quando si usa una alta segmentazione, gli score di train e test sono particolarmente alti ($\\simeq 99\\%$), mentre i risultati sul set critico sono bene o male in ogni caso deludenti. <br />\n",
        "Viste le migliori prestazioni di questo algoritmo, per un singolo albero di decisione binaria in futuro si userà quindi RandomForest con singolo estimatore."
      ]
    },
    {
      "cell_type": "markdown",
      "metadata": {
        "id": "h0Cd7LtqNuz2",
        "colab_type": "text"
      },
      "source": [
        "##Gboost"
      ]
    },
    {
      "cell_type": "markdown",
      "metadata": {
        "id": "32AYcNzReNuA",
        "colab_type": "text"
      },
      "source": [
        "Si implementa un terzo algoritmo, il GradientBoostingClassifier, per confrontare le prestazioni. Si opera uno studio ad alta e bassa segmentazione con numero crescente di estimatori per studiarne l'andamento."
      ]
    },
    {
      "cell_type": "code",
      "metadata": {
        "id": "i5tuV5_AeG4n",
        "colab_type": "code",
        "outputId": "61e7554a-571f-4b6f-eed2-b5e761318a46",
        "colab": {
          "base_uri": "https://localhost:8080/",
          "height": 1000
        }
      },
      "source": [
        "# Scikit-learn GBoost\n",
        "from sklearn.ensemble import GradientBoostingClassifier\n",
        "import time\n",
        "import warnings\n",
        "#disabilitiamo messaggi di warning \n",
        "warnings.filterwarnings(\"ignore\")\n",
        "\n",
        "classifier = GradientBoostingClassifier\n",
        "\n",
        "leaf_size_list=[2,10000]\n",
        "min_estimators = 10\n",
        "max_estimators = 101\n",
        "\n",
        "n_estimator_range=np.arange(min_estimators, max_estimators, 10)\n",
        "\n",
        "m=len(n_estimator_range)\n",
        "n=len(leaf_size_list)\n",
        "\n",
        "#Allocate Arrays for various quantities\n",
        "GBC_train_accuracy=np.zeros((n,m))\n",
        "GBC_test_accuracy=np.zeros((n,m))\n",
        "GBC_critical_accuracy=np.zeros((n,m))\n",
        "run_time=np.zeros((n,m))\n",
        "\n",
        "print_flag=True\n",
        "\n",
        "for i, leaf_size in enumerate(leaf_size_list):\n",
        "    # Define Gradient boost Classifier\n",
        "    myGB_clf = classifier(\n",
        "        loss='deviance', \n",
        "        learning_rate=0.1, \n",
        "        n_estimators=min_estimators, \n",
        "        subsample=1.0, \n",
        "        min_samples_split=leaf_size, \n",
        "        max_depth=None, \n",
        "        random_state=0, \n",
        "        warm_start=True,  \n",
        "        tol=0.0001,\n",
        "        ccp_alpha=0.0\n",
        "    )\n",
        "    for j, n_estimator in enumerate(n_estimator_range):\n",
        "     \n",
        "      print('n_estimators: %i, leaf_size: %i'%(n_estimator,leaf_size))\n",
        "\n",
        "      start_time = time.time()\n",
        "      myGB_clf.set_params(n_estimators=n_estimator)\n",
        "      myGB_clf.fit(X_train, Y_train)\n",
        "      run_time[i,j] = time.time() - start_time   \n",
        "      GBC_train_accuracy[i,j]=myGB_clf.score(X_train,Y_train)\n",
        "      GBC_test_accuracy[i,j]=myGB_clf.score(X_test,Y_test)\n",
        "      GBC_critical_accuracy[i,j]=myGB_clf.score(X_critical,Y_critical)\n",
        "      if print_flag:\n",
        "        result = (run_time[i,j], GBC_train_accuracy[i,j], GBC_test_accuracy[i,j], GBC_critical_accuracy[i,j])\n",
        "        print('{0:<15}{1:<15}{2:<15}{3:<15}'.format(\"time (s)\",\"train score\",\"test score\", \"critical score\"))\n",
        "        print('{0:<15.4f}{1:<15.4f}{2:<15.4f}{3:<15.4f}'.format(*result))      "
      ],
      "execution_count": 0,
      "outputs": [
        {
          "output_type": "stream",
          "text": [
            "n_estimators: 10, leaf_size: 2\n",
            "time (s)       train score    test score     critical score \n",
            "82.4509        1.0000         0.9938         0.7052         \n",
            "n_estimators: 20, leaf_size: 2\n",
            "time (s)       train score    test score     critical score \n",
            "83.4334        1.0000         0.9937         0.7081         \n",
            "n_estimators: 30, leaf_size: 2\n",
            "time (s)       train score    test score     critical score \n",
            "83.3556        1.0000         0.9937         0.7084         \n",
            "n_estimators: 40, leaf_size: 2\n",
            "time (s)       train score    test score     critical score \n",
            "81.6224        1.0000         0.9940         0.7083         \n",
            "n_estimators: 50, leaf_size: 2\n",
            "time (s)       train score    test score     critical score \n",
            "81.2290        1.0000         0.9942         0.7093         \n",
            "n_estimators: 60, leaf_size: 2\n",
            "time (s)       train score    test score     critical score \n",
            "76.3234        1.0000         0.9948         0.7103         \n",
            "n_estimators: 70, leaf_size: 2\n",
            "time (s)       train score    test score     critical score \n",
            "66.4756        1.0000         0.9957         0.7131         \n",
            "n_estimators: 80, leaf_size: 2\n",
            "time (s)       train score    test score     critical score \n",
            "51.8185        1.0000         0.9957         0.7181         \n",
            "n_estimators: 90, leaf_size: 2\n",
            "time (s)       train score    test score     critical score \n",
            "34.5729        1.0000         0.9961         0.7182         \n",
            "n_estimators: 100, leaf_size: 2\n",
            "time (s)       train score    test score     critical score \n",
            "1.5458         1.0000         0.9961         0.7183         \n",
            "n_estimators: 10, leaf_size: 10000\n",
            "time (s)       train score    test score     critical score \n",
            "110.6673       0.8939         0.8922         0.6384         \n",
            "n_estimators: 20, leaf_size: 10000\n",
            "time (s)       train score    test score     critical score \n",
            "131.2028       0.9739         0.9744         0.6811         \n",
            "n_estimators: 30, leaf_size: 10000\n",
            "time (s)       train score    test score     critical score \n",
            "130.3628       0.9893         0.9891         0.7179         \n",
            "n_estimators: 40, leaf_size: 10000\n",
            "time (s)       train score    test score     critical score \n",
            "123.0789       0.9945         0.9940         0.7434         \n",
            "n_estimators: 50, leaf_size: 10000\n",
            "time (s)       train score    test score     critical score \n",
            "104.9945       0.9971         0.9961         0.7648         \n",
            "n_estimators: 60, leaf_size: 10000\n",
            "time (s)       train score    test score     critical score \n",
            "88.7416        0.9981         0.9978         0.7815         \n",
            "n_estimators: 70, leaf_size: 10000\n",
            "time (s)       train score    test score     critical score \n",
            "76.2758        0.9988         0.9984         0.7970         \n",
            "n_estimators: 80, leaf_size: 10000\n",
            "time (s)       train score    test score     critical score \n",
            "66.8949        0.9992         0.9991         0.8060         \n",
            "n_estimators: 90, leaf_size: 10000\n",
            "time (s)       train score    test score     critical score \n",
            "68.1095        0.9994         0.9990         0.8105         \n",
            "n_estimators: 100, leaf_size: 10000\n",
            "time (s)       train score    test score     critical score \n",
            "63.4334        0.9996         0.9991         0.8143         \n"
          ],
          "name": "stdout"
        }
      ]
    },
    {
      "cell_type": "code",
      "metadata": {
        "id": "xRgxaRr_vjH6",
        "colab_type": "code",
        "outputId": "123669cc-23ef-4321-f7e0-5bdc08589e7f",
        "colab": {
          "base_uri": "https://localhost:8080/",
          "height": 549
        }
      },
      "source": [
        "plt.figure()\n",
        "plt.plot(n_estimator_range,GBC_train_accuracy[1],'--b^',label='Train (bassa segmentazione)')\n",
        "plt.plot(n_estimator_range,GBC_test_accuracy[1],'--r^',label='Test (bassa segmentazione)')\n",
        "plt.plot(n_estimator_range,GBC_critical_accuracy[1],'--g^',label='Critical (bassa segmentazione)')\n",
        "\n",
        "plt.plot(n_estimator_range,GBC_train_accuracy[0],'o-b',label='Train (alta segmentazione)')\n",
        "plt.plot(n_estimator_range,GBC_test_accuracy[0],'o-r',label='Test (alta segmentazione)')\n",
        "plt.plot(n_estimator_range,GBC_critical_accuracy[0],'o-g',label='Critical (alta segmentazione)')\n",
        "\n",
        "plt.xlabel('$N_\\mathrm{estimators}$')\n",
        "plt.ylabel('Accuracy')\n",
        "lgd=plt.legend(bbox_to_anchor=(1.05, 1), loc=2, borderaxespad=0.)\n",
        "plt.savefig(\"Ising_RF.pdf\",bbox_extra_artists=(lgd,), bbox_inches='tight')\n",
        "\n",
        "plt.show()\n",
        "\n",
        "plt.plot(n_estimator_range, run_time[1], '--k^',label='Bassa segmentazione')\n",
        "plt.plot(n_estimator_range, run_time[0], 'o-k',label='Alta segmentazione')\n",
        "plt.xlabel('$N_\\mathrm{estimators}$')\n",
        "plt.ylabel('Run time (s)')\n",
        "\n",
        "\n",
        "plt.legend(loc=2)\n",
        "plt.savefig(\"Ising_GB_Runtime.pdf\")\n",
        "\n",
        "plt.show()"
      ],
      "execution_count": 0,
      "outputs": [
        {
          "output_type": "display_data",
          "data": {
            "image/png": "[encoded data removed]",
            "text/plain": [
              "<Figure size 432x288 with 1 Axes>"
            ]
          },
          "metadata": {
            "tags": [],
            "needs_background": "light"
          }
        },
        {
          "output_type": "display_data",
          "data": {
            "image/png": "[encoded data removed]",
            "text/plain": [
              "<Figure size 432x288 with 1 Axes>"
            ]
          },
          "metadata": {
            "tags": [],
            "needs_background": "light"
          }
        }
      ]
    },
    {
      "cell_type": "markdown",
      "metadata": {
        "id": "UGnYvaEYju8j",
        "colab_type": "text"
      },
      "source": [
        "L'andamento riscontrato nei grafici, oltre a garantire la bontà dell'algoritmo per i valori elevati di accuracy ottenuti, conferma che è più performante una bassa segmentazione di un'alta segmentazione, a fronte di un tempo computazionale più alto. In particolare con una bassa segmentazione si ottengono valori di accuracy decisamente più alti per il set di dati critico. <br />\n",
        "Nonostante i buoni risultati, si registra un run time preoccupantemente alto e dall'andamento poco prevedibile e affatto lineare rispetto al numero di estimatori. Si continuerà a preferire Random Forest, a meno di particolare potenza di calcolo."
      ]
    },
    {
      "cell_type": "markdown",
      "metadata": {
        "id": "cTviUQYYN0dp",
        "colab_type": "text"
      },
      "source": [
        "##K-Fold Cross validation"
      ]
    },
    {
      "cell_type": "markdown",
      "metadata": {
        "id": "neqy9b9zmlCf",
        "colab_type": "text"
      },
      "source": [
        "Si implementa ora la k-fold cross validation, in modo da avere una stima più ottimistica e veritiera rispetto alla OOB già inclusa in RandomForestClassifier.\n"
      ]
    },
    {
      "cell_type": "code",
      "metadata": {
        "id": "_Bi0VMAqxVvS",
        "colab_type": "code",
        "outputId": "e46f7e01-274a-44d5-815e-f20f82b4f4e3",
        "colab": {
          "base_uri": "https://localhost:8080/",
          "height": 1000
        }
      },
      "source": [
        "from sklearn.model_selection import KFold\n",
        "from sklearn.ensemble import RandomForestClassifier\n",
        "import time\n",
        "import warnings\n",
        "\n",
        "#disabilitiamo messaggi di warning \n",
        "warnings.filterwarnings(\"ignore\")\n",
        "#Ridefinisco\n",
        "X_critical = data_cri\n",
        "Y_critical = labels_cri\n",
        "X_critical = np.reshape(X_critical, (X_critical.shape[0], 28*28))\n",
        "\n",
        "#Valore del numero di alberi \n",
        "min_estimators = 10\n",
        "max_estimators = 101\n",
        "classifer = RandomForestClassifier\n",
        "pace=10\n",
        "\n",
        "n_estimator_range=np.arange(min_estimators, max_estimators, pace) #testiamo 10 valori per il primo iperparametro\n",
        "\n",
        "leaf_size_list=[2,10000] #testiamo due valori per il seocondo iperparametro (alta segmentazione e bassa segmentazione)\n",
        "\n",
        "#vettori di medie di training, test e critical\n",
        "mean_train = np.zeros((10,2))\n",
        "mean_test =np.zeros((10,2))\n",
        "crit = np.zeros((10,2))\n",
        "\n",
        "m=len(n_estimator_range)\n",
        "n=len(leaf_size_list)\n",
        "\n",
        "#Allocate Arrays for various quantities\n",
        "RFC_OOB_accuracy=np.zeros((n,m))\n",
        "RFC_train_accuracy=np.zeros((n,m))\n",
        "RFC_test_accuracy=np.zeros((n,m))\n",
        "RFC_critical_accuracy=np.zeros((n,m))\n",
        "run_time=np.zeros((n,m))\n",
        "\n",
        "print_flag=True\n",
        "\n",
        "k=5\n",
        "kf = KFold(n_splits=k)\n",
        "\n",
        "for new_train_i , new_test_i in kf.split(X) :\n",
        "  #print('TRAIN:', new_train_i,'TEST:',new_test_i)\n",
        "  new_xtrain,new_xtest = X[new_train_i],X[new_test_i]\n",
        "  new_ytrain,new_ytest = Y[new_train_i], Y[new_test_i]\n",
        "  new_xtrain = np.reshape(new_xtrain, (new_xtrain.shape[0], 28*28))\n",
        "  new_xtest = np.reshape(new_xtest, (new_xtest.shape[0], 28*28))\n",
        "\n",
        "  y=0\n",
        "  for i, leaf_size in enumerate(leaf_size_list):\n",
        "     # Define Random Forest Classifier\n",
        "      x=0\n",
        "      myRF_clf = classifer(\n",
        "      n_estimators=min_estimators,\n",
        "      max_depth=None, \n",
        "      min_samples_split=leaf_size, # minimum number of sample per leaf\n",
        "      oob_score=True,\n",
        "      random_state=0,\n",
        "      warm_start=True # When set to True, reuse the solution of the previous call to fit and add more estimators to the ensemble, otherwise, just fit a whole new forest.\n",
        "      )\n",
        "      for j, n_estimator in enumerate(n_estimator_range):\n",
        "        \n",
        "        print('n_estimators: %i, leaf_size: %i'%(n_estimator,leaf_size))\n",
        "        \n",
        "        start_time = time.time()\n",
        "        myRF_clf.set_params(n_estimators=n_estimator)\n",
        "        myRF_clf.fit(new_xtrain, new_ytrain)\n",
        "        run_time[i,j] = time.time() - start_time    \n",
        "        \n",
        "\n",
        "    # check accuracy\n",
        "\n",
        "        RFC_train_accuracy[i,j]=myRF_clf.score(new_xtrain,new_ytrain)\n",
        "        RFC_OOB_accuracy[i,j]=myRF_clf.oob_score_\n",
        "        RFC_test_accuracy[i,j]=myRF_clf.score(new_xtest,new_ytest)\n",
        "        RFC_critical_accuracy[i,j]=myRF_clf.score(X_critical,Y_critical)\n",
        "        mean_train[x,y] = mean_train[x,y]+RFC_train_accuracy[i,j]\n",
        "        mean_test[x,y] = mean_test[x,y]+RFC_test_accuracy[i,j]\n",
        "        crit[x,y] = crit[x,y]+RFC_critical_accuracy[i,j]\n",
        "        x=x+1\n",
        "        \n",
        "        if print_flag:\n",
        "            result = (run_time[i,j], RFC_train_accuracy[i,j], RFC_OOB_accuracy[i,j], RFC_test_accuracy[i,j], RFC_critical_accuracy[i,j])\n",
        "            print('{0:<15}{1:<15}{2:<15}{3:<15}{4:<15}'.format(\"time (s)\",\"train score\", \"OOB estimate\",\"test score\", \"critical score\"))\n",
        "            print('{0:<15.4f}{1:<15.4f}{2:<15.4f}{3:<15.4f}{4:<15.4f}'.format(*result))\n",
        "      y=y+1\n",
        "\n"
      ],
      "execution_count": 0,
      "outputs": [
        {
          "output_type": "stream",
          "text": [
            "n_estimators: 10, leaf_size: 2\n",
            "time (s)       train score    OOB estimate   test score     critical score \n",
            "2.3717         1.0000         0.9913         0.9986         0.7856         \n",
            "n_estimators: 20, leaf_size: 2\n",
            "time (s)       train score    OOB estimate   test score     critical score \n",
            "2.6299         1.0000         0.9997         0.9986         0.8015         \n",
            "n_estimators: 30, leaf_size: 2\n",
            "time (s)       train score    OOB estimate   test score     critical score \n",
            "2.9256         1.0000         1.0000         0.9987         0.7991         \n",
            "n_estimators: 40, leaf_size: 2\n",
            "time (s)       train score    OOB estimate   test score     critical score \n",
            "3.3713         1.0000         1.0000         0.9986         0.8064         \n",
            "n_estimators: 50, leaf_size: 2\n",
            "time (s)       train score    OOB estimate   test score     critical score \n",
            "3.6837         1.0000         1.0000         0.9983         0.8070         \n",
            "n_estimators: 60, leaf_size: 2\n",
            "time (s)       train score    OOB estimate   test score     critical score \n",
            "3.9648         1.0000         1.0000         0.9986         0.8080         \n",
            "n_estimators: 70, leaf_size: 2\n",
            "time (s)       train score    OOB estimate   test score     critical score \n",
            "4.2865         1.0000         1.0000         0.9984         0.8081         \n",
            "n_estimators: 80, leaf_size: 2\n",
            "time (s)       train score    OOB estimate   test score     critical score \n",
            "4.6243         1.0000         1.0000         0.9986         0.8087         \n",
            "n_estimators: 90, leaf_size: 2\n",
            "time (s)       train score    OOB estimate   test score     critical score \n",
            "4.8484         1.0000         1.0000         0.9985         0.8124         \n",
            "n_estimators: 100, leaf_size: 2\n",
            "time (s)       train score    OOB estimate   test score     critical score \n",
            "5.2220         1.0000         1.0000         0.9986         0.8137         \n",
            "n_estimators: 10, leaf_size: 10000\n",
            "time (s)       train score    OOB estimate   test score     critical score \n",
            "1.3276         0.8985         0.8865         0.6752         0.6742         \n",
            "n_estimators: 20, leaf_size: 10000\n",
            "time (s)       train score    OOB estimate   test score     critical score \n",
            "1.5877         0.8993         0.8972         0.6780         0.6873         \n",
            "n_estimators: 30, leaf_size: 10000\n",
            "time (s)       train score    OOB estimate   test score     critical score \n",
            "1.9125         0.8998         0.8990         0.6789         0.6933         \n",
            "n_estimators: 40, leaf_size: 10000\n",
            "time (s)       train score    OOB estimate   test score     critical score \n",
            "2.2385         0.8999         0.8992         0.6790         0.6941         \n",
            "n_estimators: 50, leaf_size: 10000\n",
            "time (s)       train score    OOB estimate   test score     critical score \n",
            "2.4592         0.8999         0.8995         0.6789         0.6976         \n",
            "n_estimators: 60, leaf_size: 10000\n",
            "time (s)       train score    OOB estimate   test score     critical score \n",
            "2.7608         0.9000         0.8996         0.6790         0.6962         \n",
            "n_estimators: 70, leaf_size: 10000\n",
            "time (s)       train score    OOB estimate   test score     critical score \n",
            "2.9597         0.9001         0.8996         0.6791         0.7000         \n",
            "n_estimators: 80, leaf_size: 10000\n",
            "time (s)       train score    OOB estimate   test score     critical score \n",
            "3.3253         0.9001         0.8997         0.6794         0.7026         \n",
            "n_estimators: 90, leaf_size: 10000\n",
            "time (s)       train score    OOB estimate   test score     critical score \n",
            "3.6079         0.9000         0.8998         0.6790         0.7019         \n",
            "n_estimators: 100, leaf_size: 10000\n",
            "time (s)       train score    OOB estimate   test score     critical score \n",
            "3.8180         0.9000         0.8999         0.6790         0.7002         \n",
            "n_estimators: 10, leaf_size: 2\n",
            "time (s)       train score    OOB estimate   test score     critical score \n",
            "2.3334         0.9999         0.9900         0.9999         0.8096         \n",
            "n_estimators: 20, leaf_size: 2\n",
            "time (s)       train score    OOB estimate   test score     critical score \n",
            "2.6167         1.0000         0.9991         1.0000         0.8100         \n",
            "n_estimators: 30, leaf_size: 2\n",
            "time (s)       train score    OOB estimate   test score     critical score \n",
            "2.9096         1.0000         0.9995         1.0000         0.8103         \n",
            "n_estimators: 40, leaf_size: 2\n",
            "time (s)       train score    OOB estimate   test score     critical score \n",
            "3.2605         1.0000         0.9995         1.0000         0.8165         \n",
            "n_estimators: 50, leaf_size: 2\n",
            "time (s)       train score    OOB estimate   test score     critical score \n",
            "3.6963         1.0000         0.9995         1.0000         0.8173         \n",
            "n_estimators: 60, leaf_size: 2\n",
            "time (s)       train score    OOB estimate   test score     critical score \n",
            "4.0560         1.0000         0.9995         1.0000         0.8160         \n",
            "n_estimators: 70, leaf_size: 2\n",
            "time (s)       train score    OOB estimate   test score     critical score \n",
            "4.3497         1.0000         0.9995         1.0000         0.8188         \n",
            "n_estimators: 80, leaf_size: 2\n",
            "time (s)       train score    OOB estimate   test score     critical score \n",
            "4.6422         1.0000         0.9995         1.0000         0.8181         \n",
            "n_estimators: 90, leaf_size: 2\n",
            "time (s)       train score    OOB estimate   test score     critical score \n",
            "4.9168         1.0000         0.9996         1.0000         0.8185         \n",
            "n_estimators: 100, leaf_size: 2\n",
            "time (s)       train score    OOB estimate   test score     critical score \n",
            "5.2689         1.0000         0.9995         1.0000         0.8170         \n",
            "n_estimators: 10, leaf_size: 10000\n",
            "time (s)       train score    OOB estimate   test score     critical score \n",
            "1.3585         0.8999         0.8877         0.6732         0.6793         \n",
            "n_estimators: 20, leaf_size: 10000\n",
            "time (s)       train score    OOB estimate   test score     critical score \n",
            "1.6212         0.9003         0.8983         0.6740         0.6872         \n",
            "n_estimators: 30, leaf_size: 10000\n",
            "time (s)       train score    OOB estimate   test score     critical score \n",
            "1.9077         0.9007         0.8998         0.6751         0.6923         \n",
            "n_estimators: 40, leaf_size: 10000\n",
            "time (s)       train score    OOB estimate   test score     critical score \n",
            "2.2430         0.9008         0.9003         0.6750         0.6897         \n",
            "n_estimators: 50, leaf_size: 10000\n",
            "time (s)       train score    OOB estimate   test score     critical score \n",
            "2.4866         0.9010         0.9005         0.6753         0.6980         \n",
            "n_estimators: 60, leaf_size: 10000\n",
            "time (s)       train score    OOB estimate   test score     critical score \n",
            "2.8454         0.9010         0.9006         0.6754         0.6965         \n",
            "n_estimators: 70, leaf_size: 10000\n",
            "time (s)       train score    OOB estimate   test score     critical score \n",
            "3.1118         0.9010         0.9008         0.6758         0.6965         \n",
            "n_estimators: 80, leaf_size: 10000\n",
            "time (s)       train score    OOB estimate   test score     critical score \n",
            "3.3303         0.9010         0.9009         0.6759         0.6994         \n",
            "n_estimators: 90, leaf_size: 10000\n",
            "time (s)       train score    OOB estimate   test score     critical score \n",
            "3.5577         0.9010         0.9009         0.6759         0.6976         \n",
            "n_estimators: 100, leaf_size: 10000\n",
            "time (s)       train score    OOB estimate   test score     critical score \n",
            "3.8368         0.9011         0.9008         0.6761         0.6990         \n",
            "n_estimators: 10, leaf_size: 2\n",
            "time (s)       train score    OOB estimate   test score     critical score \n",
            "2.4263         1.0000         0.9934         0.9993         0.7949         \n",
            "n_estimators: 20, leaf_size: 2\n",
            "time (s)       train score    OOB estimate   test score     critical score \n",
            "2.7389         1.0000         0.9997         0.9998         0.8133         \n",
            "n_estimators: 30, leaf_size: 2\n",
            "time (s)       train score    OOB estimate   test score     critical score \n",
            "2.9474         1.0000         0.9998         0.9998         0.8158         \n",
            "n_estimators: 40, leaf_size: 2\n",
            "time (s)       train score    OOB estimate   test score     critical score \n",
            "3.3447         1.0000         0.9998         0.9999         0.8197         \n",
            "n_estimators: 50, leaf_size: 2\n",
            "time (s)       train score    OOB estimate   test score     critical score \n",
            "3.6067         1.0000         0.9998         0.9999         0.8159         \n",
            "n_estimators: 60, leaf_size: 2\n",
            "time (s)       train score    OOB estimate   test score     critical score \n",
            "4.0056         1.0000         0.9998         0.9999         0.8173         \n",
            "n_estimators: 70, leaf_size: 2\n",
            "time (s)       train score    OOB estimate   test score     critical score \n",
            "4.2134         1.0000         0.9998         0.9999         0.8167         \n",
            "n_estimators: 80, leaf_size: 2\n",
            "time (s)       train score    OOB estimate   test score     critical score \n",
            "4.6131         1.0000         0.9998         0.9999         0.8179         \n",
            "n_estimators: 90, leaf_size: 2\n",
            "time (s)       train score    OOB estimate   test score     critical score \n",
            "4.8913         1.0000         0.9998         0.9999         0.8197         \n",
            "n_estimators: 100, leaf_size: 2\n",
            "time (s)       train score    OOB estimate   test score     critical score \n",
            "5.2061         1.0000         0.9998         0.9999         0.8196         \n",
            "n_estimators: 10, leaf_size: 10000\n",
            "time (s)       train score    OOB estimate   test score     critical score \n",
            "1.7563         0.9201         0.9035         0.9637         0.6723         \n",
            "n_estimators: 20, leaf_size: 10000\n",
            "time (s)       train score    OOB estimate   test score     critical score \n",
            "2.0493         0.8887         0.8913         0.9493         0.6794         \n",
            "n_estimators: 30, leaf_size: 10000\n",
            "time (s)       train score    OOB estimate   test score     critical score \n",
            "2.2469         0.9275         0.9197         0.9674         0.6791         \n",
            "n_estimators: 40, leaf_size: 10000\n",
            "time (s)       train score    OOB estimate   test score     critical score \n",
            "2.6171         0.9364         0.9281         0.9712         0.6853         \n",
            "n_estimators: 50, leaf_size: 10000\n",
            "time (s)       train score    OOB estimate   test score     critical score \n",
            "2.8363         0.9437         0.9366         0.9749         0.6875         \n",
            "n_estimators: 60, leaf_size: 10000\n",
            "time (s)       train score    OOB estimate   test score     critical score \n",
            "3.1040         0.9410         0.9340         0.9737         0.6902         \n",
            "n_estimators: 70, leaf_size: 10000\n",
            "time (s)       train score    OOB estimate   test score     critical score \n",
            "3.3982         0.9466         0.9394         0.9763         0.6868         \n",
            "n_estimators: 80, leaf_size: 10000\n",
            "time (s)       train score    OOB estimate   test score     critical score \n",
            "3.8230         0.9424         0.9371         0.9742         0.6857         \n",
            "n_estimators: 90, leaf_size: 10000\n",
            "time (s)       train score    OOB estimate   test score     critical score \n",
            "4.0003         0.9428         0.9395         0.9744         0.6879         \n",
            "n_estimators: 100, leaf_size: 10000\n",
            "time (s)       train score    OOB estimate   test score     critical score \n",
            "4.3717         0.9433         0.9394         0.9742         0.6886         \n",
            "n_estimators: 10, leaf_size: 2\n",
            "time (s)       train score    OOB estimate   test score     critical score \n",
            "2.4699         1.0000         0.9920         1.0000         0.7989         \n",
            "n_estimators: 20, leaf_size: 2\n",
            "time (s)       train score    OOB estimate   test score     critical score \n",
            "2.7754         1.0000         0.9994         1.0000         0.8105         \n",
            "n_estimators: 30, leaf_size: 2\n",
            "time (s)       train score    OOB estimate   test score     critical score \n",
            "3.0511         1.0000         0.9996         1.0000         0.8115         \n",
            "n_estimators: 40, leaf_size: 2\n",
            "time (s)       train score    OOB estimate   test score     critical score \n",
            "3.4770         1.0000         0.9997         1.0000         0.8102         \n",
            "n_estimators: 50, leaf_size: 2\n",
            "time (s)       train score    OOB estimate   test score     critical score \n",
            "3.6981         1.0000         0.9997         1.0000         0.8123         \n",
            "n_estimators: 60, leaf_size: 2\n",
            "time (s)       train score    OOB estimate   test score     critical score \n",
            "4.0183         1.0000         0.9997         1.0000         0.8146         \n",
            "n_estimators: 70, leaf_size: 2\n",
            "time (s)       train score    OOB estimate   test score     critical score \n",
            "4.3151         1.0000         0.9998         1.0000         0.8137         \n",
            "n_estimators: 80, leaf_size: 2\n",
            "time (s)       train score    OOB estimate   test score     critical score \n",
            "4.7217         1.0000         0.9997         1.0000         0.8147         \n",
            "n_estimators: 90, leaf_size: 2\n",
            "time (s)       train score    OOB estimate   test score     critical score \n",
            "4.9950         1.0000         0.9997         1.0000         0.8181         \n",
            "n_estimators: 100, leaf_size: 2\n",
            "time (s)       train score    OOB estimate   test score     critical score \n",
            "5.2400         1.0000         0.9997         1.0000         0.8178         \n",
            "n_estimators: 10, leaf_size: 10000\n",
            "time (s)       train score    OOB estimate   test score     critical score \n",
            "1.8427         0.9571         0.9256         0.9993         0.6874         \n",
            "n_estimators: 20, leaf_size: 10000\n",
            "time (s)       train score    OOB estimate   test score     critical score \n",
            "2.1164         0.9408         0.9261         0.9996         0.6850         \n",
            "n_estimators: 30, leaf_size: 10000\n",
            "time (s)       train score    OOB estimate   test score     critical score \n",
            "2.4330         0.9633         0.9521         0.9997         0.6991         \n",
            "n_estimators: 40, leaf_size: 10000\n",
            "time (s)       train score    OOB estimate   test score     critical score \n",
            "2.7328         0.9647         0.9575         0.9995         0.6979         \n",
            "n_estimators: 50, leaf_size: 10000\n",
            "time (s)       train score    OOB estimate   test score     critical score \n",
            "3.0569         0.9667         0.9622         0.9998         0.6998         \n",
            "n_estimators: 60, leaf_size: 10000\n",
            "time (s)       train score    OOB estimate   test score     critical score \n",
            "3.2902         0.9682         0.9636         0.9997         0.6992         \n",
            "n_estimators: 70, leaf_size: 10000\n",
            "time (s)       train score    OOB estimate   test score     critical score \n",
            "3.5405         0.9712         0.9674         0.9998         0.6982         \n",
            "n_estimators: 80, leaf_size: 10000\n",
            "time (s)       train score    OOB estimate   test score     critical score \n",
            "3.8950         0.9709         0.9670         0.9998         0.7028         \n",
            "n_estimators: 90, leaf_size: 10000\n",
            "time (s)       train score    OOB estimate   test score     critical score \n",
            "4.1043         0.9693         0.9657         0.9998         0.7017         \n",
            "n_estimators: 100, leaf_size: 10000\n",
            "time (s)       train score    OOB estimate   test score     critical score \n",
            "4.4046         0.9697         0.9659         0.9998         0.7019         \n",
            "n_estimators: 10, leaf_size: 2\n",
            "time (s)       train score    OOB estimate   test score     critical score \n",
            "2.5171         1.0000         0.9917         1.0000         0.7954         \n",
            "n_estimators: 20, leaf_size: 2\n",
            "time (s)       train score    OOB estimate   test score     critical score \n",
            "2.8302         1.0000         0.9993         1.0000         0.8045         \n",
            "n_estimators: 30, leaf_size: 2\n",
            "time (s)       train score    OOB estimate   test score     critical score \n",
            "3.1162         1.0000         0.9996         1.0000         0.8073         \n",
            "n_estimators: 40, leaf_size: 2\n",
            "time (s)       train score    OOB estimate   test score     critical score \n",
            "3.5070         1.0000         0.9997         1.0000         0.8104         \n",
            "n_estimators: 50, leaf_size: 2\n",
            "time (s)       train score    OOB estimate   test score     critical score \n",
            "3.7587         1.0000         0.9997         1.0000         0.8089         \n",
            "n_estimators: 60, leaf_size: 2\n",
            "time (s)       train score    OOB estimate   test score     critical score \n",
            "4.0946         1.0000         0.9997         1.0000         0.8109         \n",
            "n_estimators: 70, leaf_size: 2\n",
            "time (s)       train score    OOB estimate   test score     critical score \n",
            "4.3962         1.0000         0.9998         1.0000         0.8118         \n",
            "n_estimators: 80, leaf_size: 2\n",
            "time (s)       train score    OOB estimate   test score     critical score \n",
            "4.7832         1.0000         0.9998         1.0000         0.8148         \n",
            "n_estimators: 90, leaf_size: 2\n",
            "time (s)       train score    OOB estimate   test score     critical score \n",
            "5.0719         1.0000         0.9998         1.0000         0.8154         \n",
            "n_estimators: 100, leaf_size: 2\n",
            "time (s)       train score    OOB estimate   test score     critical score \n",
            "5.3239         1.0000         0.9998         1.0000         0.8179         \n",
            "n_estimators: 10, leaf_size: 10000\n",
            "time (s)       train score    OOB estimate   test score     critical score \n",
            "1.8559         0.9653         0.9309         0.9991         0.6886         \n",
            "n_estimators: 20, leaf_size: 10000\n",
            "time (s)       train score    OOB estimate   test score     critical score \n",
            "2.1433         0.9554         0.9382         0.9992         0.6893         \n",
            "n_estimators: 30, leaf_size: 10000\n",
            "time (s)       train score    OOB estimate   test score     critical score \n",
            "2.4019         0.9683         0.9581         0.9994         0.6995         \n",
            "n_estimators: 40, leaf_size: 10000\n",
            "time (s)       train score    OOB estimate   test score     critical score \n",
            "2.6948         0.9681         0.9612         0.9996         0.6985         \n",
            "n_estimators: 50, leaf_size: 10000\n",
            "time (s)       train score    OOB estimate   test score     critical score \n",
            "2.9894         0.9687         0.9642         0.9996         0.6976         \n",
            "n_estimators: 60, leaf_size: 10000\n",
            "time (s)       train score    OOB estimate   test score     critical score \n",
            "3.2749         0.9695         0.9650         0.9996         0.6972         \n",
            "n_estimators: 70, leaf_size: 10000\n",
            "time (s)       train score    OOB estimate   test score     critical score \n",
            "3.5860         0.9724         0.9687         0.9996         0.7039         \n",
            "n_estimators: 80, leaf_size: 10000\n",
            "time (s)       train score    OOB estimate   test score     critical score \n",
            "3.8881         0.9714         0.9679         0.9996         0.6996         \n",
            "n_estimators: 90, leaf_size: 10000\n",
            "time (s)       train score    OOB estimate   test score     critical score \n",
            "4.1947         0.9696         0.9670         0.9997         0.7047         \n",
            "n_estimators: 100, leaf_size: 10000\n",
            "time (s)       train score    OOB estimate   test score     critical score \n",
            "4.4222         0.9693         0.9668         0.9996         0.7052         \n"
          ],
          "name": "stdout"
        }
      ]
    },
    {
      "cell_type": "code",
      "metadata": {
        "id": "2cM_9cwIZg9W",
        "colab_type": "code",
        "outputId": "cc4b6e5a-ec45-46e9-bd08-740031224ef3",
        "colab": {
          "base_uri": "https://localhost:8080/",
          "height": 711
        }
      },
      "source": [
        "temp_mean_train = mean_train/k\n",
        "temp_mean_test = mean_test/k\n",
        "temp_crit = crit/k\n",
        "pace=10\n",
        "print(\"Crescent numbers of estimators, starting from:\",min_estimators,\"to\",max_estimators,\"with pace:\",pace,\"\\n\")\n",
        "print(\"K-fold on the train set:\\n leafsize:2  leafsize:10000\\n\",temp_mean_train)\n",
        "print(\"\\nK-fold on the test set:\\n leafsize:2  leafsize:10000\\n\",temp_mean_test)\n",
        "print(\"\\nK-fold on the critical set:\\n leafsize:2  leafsize:10000\\n\",temp_crit)"
      ],
      "execution_count": 0,
      "outputs": [
        {
          "output_type": "stream",
          "text": [
            "Crescent numbers of estimators, starting from: 10 to 101 with pace: 10 \n",
            "\n",
            "K-fold on the train set:\n",
            " leafsize:2  leafsize:10000\n",
            " [[0.99998337 0.92817806]\n",
            " [0.99999446 0.9169105 ]\n",
            " [0.99999723 0.93191729]\n",
            " [1.         0.93396291]\n",
            " [1.         0.93599468]\n",
            " [1.         0.93593647]\n",
            " [1.         0.93827314]\n",
            " [1.         0.9371644 ]\n",
            " [1.         0.93654628]\n",
            " [1.         0.93669042]]\n",
            "\n",
            "K-fold on the test set:\n",
            " leafsize:2  leafsize:10000\n",
            " [[0.99954542 0.86212054]\n",
            " [0.99968956 0.86000275]\n",
            " [0.99970065 0.86410518]\n",
            " [0.99968956 0.86485914]\n",
            " [0.99963412 0.86571289]\n",
            " [0.99970065 0.86546896]\n",
            " [0.99966739 0.86613422]\n",
            " [0.99968956 0.86577941]\n",
            " [0.99967847 0.86577941]\n",
            " [0.99970065 0.86574615]]\n",
            "\n",
            "K-fold on the critical set:\n",
            " leafsize:2  leafsize:10000\n",
            " [[0.7968801  0.68038336]\n",
            " [0.80795269 0.68564437]\n",
            " [0.80878874 0.69267945]\n",
            " [0.81262235 0.69310767]\n",
            " [0.81227569 0.69610522]\n",
            " [0.81335644 0.69584013]\n",
            " [0.81382545 0.69708401]\n",
            " [0.81486542 0.69802202]\n",
            " [0.816823   0.69875612]\n",
            " [0.81721044 0.69900082]]\n"
          ],
          "name": "stdout"
        }
      ]
    },
    {
      "cell_type": "code",
      "metadata": {
        "id": "LUzY5zheo3WG",
        "colab_type": "code",
        "outputId": "8be640a8-9670-454d-d427-97cac702053a",
        "colab": {
          "base_uri": "https://localhost:8080/",
          "height": 549
        }
      },
      "source": [
        "plt.figure()\n",
        "plt.plot(n_estimator_range,GBC_train_accuracy[1],'--b^',label='Train (bassa segmentazione)')\n",
        "plt.plot(n_estimator_range,GBC_test_accuracy[1],'--r^',label='Test (bassa segmentazione)')\n",
        "plt.plot(n_estimator_range,GBC_critical_accuracy[1],'--g^',label='Critical (bassa segmentazione)')\n",
        "\n",
        "plt.plot(n_estimator_range,GBC_train_accuracy[0],'o-b',label='Train (alta segmentazione)')\n",
        "plt.plot(n_estimator_range,GBC_test_accuracy[0],'o-r',label='Test (alta segmentazione)')\n",
        "plt.plot(n_estimator_range,GBC_critical_accuracy[0],'o-g',label='Critical (alta segmentazione)')\n",
        "\n",
        "plt.xlabel('$N_\\mathrm{estimators}$')\n",
        "plt.ylabel('Accuracy')\n",
        "lgd=plt.legend(bbox_to_anchor=(1.05, 1), loc=2, borderaxespad=0.)\n",
        "plt.savefig(\"Ising_RF.pdf\",bbox_extra_artists=(lgd,), bbox_inches='tight')\n",
        "\n",
        "plt.show()\n",
        "\n",
        "plt.plot(n_estimator_range, run_time[1], '--k^',label='Bassa segmentazione')\n",
        "plt.plot(n_estimator_range, run_time[0], 'o-k',label='Alta segmentazione')\n",
        "plt.xlabel('$N_\\mathrm{estimators}$')\n",
        "plt.ylabel('Run time (s)')\n",
        "\n",
        "\n",
        "plt.legend(loc=2)\n",
        "plt.savefig(\"Ising_GB_Runtime.pdf\")\n",
        "\n",
        "plt.show()"
      ],
      "execution_count": 0,
      "outputs": [
        {
          "output_type": "display_data",
          "data": {
            "image/png": "[encoded data removed]",
            "text/plain": [
              "<Figure size 432x288 with 1 Axes>"
            ]
          },
          "metadata": {
            "tags": [],
            "needs_background": "light"
          }
        },
        {
          "output_type": "display_data",
          "data": {
            "image/png": "[encoded data removed]",
            "text/plain": [
              "<Figure size 432x288 with 1 Axes>"
            ]
          },
          "metadata": {
            "tags": [],
            "needs_background": "light"
          }
        }
      ]
    },
    {
      "cell_type": "markdown",
      "metadata": {
        "id": "JGWaLoLlnVdp",
        "colab_type": "text"
      },
      "source": [
        "Si notano, come attese, stime più ottimistiche dell'accuracy. In particolare la bassa segmentazione inizia a produrre accuracy migliori già da 40-50 estimatori, mentre sulla segmentazione alta i risultati rimangono insoddisfacenti sul set critico. "
      ]
    },
    {
      "cell_type": "markdown",
      "metadata": {
        "id": "Nh_hacbnN43S",
        "colab_type": "text"
      },
      "source": [
        "##GBoost regression\n"
      ]
    },
    {
      "cell_type": "markdown",
      "metadata": {
        "id": "tPG4tc1Jsw6y",
        "colab_type": "text"
      },
      "source": [
        "Si vuole infine utilizzare il Gradient Boost Regressor per predire le temperature associate alle configurazioni di spin."
      ]
    },
    {
      "cell_type": "code",
      "metadata": {
        "id": "Er0dKaWMPHtf",
        "colab_type": "code",
        "colab": {}
      },
      "source": [
        "# dividiamo il campione in 3 campioni sulla base dello stato (ordinato, critico, disordinato)\n",
        "# T/J < 2.0 ordinato\n",
        "# T/J > 2.5 disordinato\n",
        "# altrimenti critico\n",
        "\n",
        "ord_sele = (labels < 2.0)\n",
        "dis_sele = (labels > 2.5)\n",
        "cri_sele = ((labels >= 2.0) & (labels <= 2.5))\n",
        "lab_dis = []\n",
        "lab_ord = []\n",
        "lab_crit =[]\n",
        "for d in labels:\n",
        "  if d < 2 :\n",
        "    lab_ord.append(d)\n",
        "  if d > 2.5 :\n",
        "    lab_dis.append(d)\n",
        "  else :\n",
        "    lab_crit.append(d)"
      ],
      "execution_count": 0,
      "outputs": []
    },
    {
      "cell_type": "code",
      "metadata": {
        "id": "UdaKNQf5PhfZ",
        "colab_type": "code",
        "colab": {}
      },
      "source": [
        "lab_ord = np.array(lab_ord)\n",
        "lab_dis = np.array(lab_dis)\n",
        "lab_crit = np.array(lab_crit)"
      ],
      "execution_count": 0,
      "outputs": []
    },
    {
      "cell_type": "code",
      "metadata": {
        "id": "d1xpAlsQPsto",
        "colab_type": "code",
        "colab": {}
      },
      "source": [
        "#si creano i campioni\n",
        "\n",
        "from sklearn.model_selection import train_test_split\n",
        "train_to_test_ratio = 0.8\n",
        "X_gbr=np.concatenate((data_ord,data_dis))\n",
        "Y_gbr=np.concatenate((lab_ord,lab_dis))\n",
        "X_traingbr,X_testgbr,Y_traingbr,Y_testgbr=train_test_split(X_gbr,Y_gbr,train_size=train_to_test_ratio,test_size=1.0-train_to_test_ratio)\n",
        "X_critgbr = data_cri\n",
        "Y_critgbr = lab_crit\n",
        "X_traingbr = np.reshape(X_traingbr, (X_traingbr.shape[0], 28*28))\n",
        "X_testgbr = np.reshape(X_testgbr, (X_testgbr.shape[0], 28*28))\n",
        "X_critgbr = np.reshape(X_critgbr, (X_critgbr.shape[0], 28*28))"
      ],
      "execution_count": 0,
      "outputs": []
    },
    {
      "cell_type": "code",
      "metadata": {
        "id": "4_6GQtJOPw9_",
        "colab_type": "code",
        "outputId": "1a141936-f0e6-4e7f-93a3-e86276b5f245",
        "colab": {
          "base_uri": "https://localhost:8080/",
          "height": 173
        }
      },
      "source": [
        "#training dell'algoritmo\n",
        "\n",
        "from sklearn.ensemble import GradientBoostingRegressor\n",
        "from sklearn import metrics\n",
        "\n",
        "gbr = GradientBoostingRegressor(n_estimators=100)\n",
        "gbr.fit(X_traingbr,Y_traingbr)"
      ],
      "execution_count": 0,
      "outputs": [
        {
          "output_type": "execute_result",
          "data": {
            "text/plain": [
              "GradientBoostingRegressor(alpha=0.9, ccp_alpha=0.0, criterion='friedman_mse',\n",
              "                          init=None, learning_rate=0.1, loss='ls', max_depth=3,\n",
              "                          max_features=None, max_leaf_nodes=None,\n",
              "                          min_impurity_decrease=0.0, min_impurity_split=None,\n",
              "                          min_samples_leaf=1, min_samples_split=2,\n",
              "                          min_weight_fraction_leaf=0.0, n_estimators=100,\n",
              "                          n_iter_no_change=None, presort='deprecated',\n",
              "                          random_state=None, subsample=1.0, tol=0.0001,\n",
              "                          validation_fraction=0.1, verbose=0, warm_start=False)"
            ]
          },
          "metadata": {
            "tags": []
          },
          "execution_count": 55
        }
      ]
    },
    {
      "cell_type": "code",
      "metadata": {
        "id": "LuBQ6fdIQFHm",
        "colab_type": "code",
        "outputId": "7bafa6c5-219f-4d11-a5b3-c5b38863b672",
        "colab": {
          "base_uri": "https://localhost:8080/",
          "height": 87
        }
      },
      "source": [
        "#stampiamo una temperatura predetta e confrontiamola con quella vera\n",
        "\n",
        "#import sys\n",
        "#np.set_printoptions(threshold=sys.maxsize)\n",
        "#print(X_test.shape)\n",
        "print(\"\\n\")\n",
        "print(gbr.predict(X_testgbr)[1])\n",
        "print(Y_testgbr[1])"
      ],
      "execution_count": 0,
      "outputs": [
        {
          "output_type": "stream",
          "text": [
            "\n",
            "\n",
            "4.326876655307673\n",
            "4.92787\n"
          ],
          "name": "stdout"
        }
      ]
    },
    {
      "cell_type": "markdown",
      "metadata": {
        "id": "ygWdEK3EvFxG",
        "colab_type": "text"
      },
      "source": [
        "Nonostante le temperature (vera e predetta) siano quantomeno definibili come simili. la differenza tra esse, messa in rapporto alla temperatura in sé non permette di accettare come successo la predizione ottenuta. Si ottiene un errore percentuale del $7.5\\%$, che è ben oltre quanto si vorrebbe ottenere da un algoritmo simile. Questo perché chiaramente una percentuale d'errore così ampia non permettere di discernere tra temperatura che dà vita ad un dataset critico da uno ordinato o disordinato."
      ]
    },
    {
      "cell_type": "markdown",
      "metadata": {
        "id": "oRG1xsKMtzmE",
        "colab_type": "text"
      },
      "source": [
        "Si procede dunque al calcolo dell'accuracy in funzione di un valore di discernimento di temperatura (tolerance) $\\epsilon$. E' necessario quindi avere un intervallo entro il quale csi considerano le due temperature compatibili e la relativa accuracy del modello. Da quanto osservato in precedenza ci si attende valori di accuracy accettabili solo per $\\epsilon$ abbastanza grandi."
      ]
    },
    {
      "cell_type": "code",
      "metadata": {
        "id": "-bTRAdzbTj0T",
        "colab_type": "code",
        "outputId": "003317b2-c94f-4e9a-f7e6-b5b29ea7ee5b",
        "colab": {
          "base_uri": "https://localhost:8080/",
          "height": 69
        }
      },
      "source": [
        "#Calcoliamo le accuracy\n",
        "\n",
        "eps = [1e-4, 1e-3, 1e-2, 0.1, 0.5, 1, 2]\n",
        "\n",
        "gbr_pred_train = gbr.predict(X_traingbr)\n",
        "gbr_pred_test = gbr.predict(X_testgbr)\n",
        "gbr_pred_crit = gbr.predict(X_critgbr)\n",
        "\n",
        "print(gbr_pred_train.shape)\n",
        "print(gbr_pred_test.shape)\n",
        "print(gbr_pred_crit.shape)"
      ],
      "execution_count": 0,
      "outputs": [
        {
          "output_type": "stream",
          "text": [
            "(72153,)\n",
            "(18039,)\n",
            "(9808,)\n"
          ],
          "name": "stdout"
        }
      ]
    },
    {
      "cell_type": "code",
      "metadata": {
        "id": "-XahS0w9aJgE",
        "colab_type": "code",
        "outputId": "fffa1421-bc2d-442c-df39-f2a5126a9168",
        "colab": {
          "base_uri": "https://localhost:8080/",
          "height": 745
        }
      },
      "source": [
        "gbr_acc_train = 0\n",
        "gbr_acc_test = 0\n",
        "gbr_acc_crit = 0\n",
        "\n",
        "for epsilon in eps:\n",
        "  for i in range(0,72153,1):\n",
        "    if abs(gbr_pred_train[i]-Y_traingbr[i]) < epsilon:\n",
        "      gbr_acc_train += 1\n",
        "\n",
        "  gbr_acc_train /= 72153\n",
        "\n",
        "  for i in range(0,18039,1):\n",
        "    if abs(gbr_pred_test[i]-Y_testgbr[i]) < epsilon:\n",
        "      gbr_acc_test += 1\n",
        "\n",
        "  gbr_acc_test /= 18039\n",
        "\n",
        "  for i in range(0,9808,1):\n",
        "    if abs(gbr_pred_crit[i]-Y_critgbr[i]) < epsilon:\n",
        "      gbr_acc_crit += 1\n",
        "\n",
        "  gbr_acc_crit /= 9808\n",
        "\n",
        "  print('Tolerance: %g'%epsilon)\n",
        "  print(\"Accuracy on the train set: %.4f\"%gbr_acc_train)\n",
        "  print(\"Accuracy on the test set: %.4f\"%gbr_acc_test)\n",
        "  print(\"Accuracy on the critical set: %.4f\"%gbr_acc_crit)\n",
        "  print('\\n')"
      ],
      "execution_count": 0,
      "outputs": [
        {
          "output_type": "stream",
          "text": [
            "Tolerance: 0.0001\n",
            "Accuracy on the train set: 0.0002\n",
            "Accuracy on the test set: 0.0001\n",
            "Accuracy on the critical set: 0.0000\n",
            "\n",
            "\n",
            "Tolerance: 0.001\n",
            "Accuracy on the train set: 0.0014\n",
            "Accuracy on the test set: 0.0016\n",
            "Accuracy on the critical set: 0.0002\n",
            "\n",
            "\n",
            "Tolerance: 0.01\n",
            "Accuracy on the train set: 0.0121\n",
            "Accuracy on the test set: 0.0140\n",
            "Accuracy on the critical set: 0.0047\n",
            "\n",
            "\n",
            "Tolerance: 0.1\n",
            "Accuracy on the train set: 0.1185\n",
            "Accuracy on the test set: 0.1199\n",
            "Accuracy on the critical set: 0.0450\n",
            "\n",
            "\n",
            "Tolerance: 0.5\n",
            "Accuracy on the train set: 0.5765\n",
            "Accuracy on the test set: 0.5658\n",
            "Accuracy on the critical set: 0.2121\n",
            "\n",
            "\n",
            "Tolerance: 1\n",
            "Accuracy on the train set: 0.9109\n",
            "Accuracy on the test set: 0.9053\n",
            "Accuracy on the critical set: 0.4163\n",
            "\n",
            "\n",
            "Tolerance: 2\n",
            "Accuracy on the train set: 0.9978\n",
            "Accuracy on the test set: 0.9970\n",
            "Accuracy on the critical set: 0.7749\n",
            "\n",
            "\n"
          ],
          "name": "stdout"
        }
      ]
    },
    {
      "cell_type": "markdown",
      "metadata": {
        "id": "b2qf2AwOuaff",
        "colab_type": "text"
      },
      "source": [
        "Come atteso, prima di $\\epsilon = 0.5$ i valori registrati non sono neanche classificabili come accettabili. A tale valore corrisponde un'accuracy del $\\simeq 57\\%$ su entrambi i set (train e test). Per avere un'accuracy buona ($\\simeq 90\\%$ su test e train, a fronte del solo $41\\%$ sul set critico) è necessario utilizzare un $\\epsilon$ = 1, che è decisamente troppo alto per poter essere un valore utilizzabile. <br />\n",
        "Essendo l'intervallo di temperature utilizzato [2,2.5], non ci si ritiene dunque soddisfatti di ciò che si è ottenuto e si ritiene che l'algoritmo non sia utilizzabile con efficacia."
      ]
    }
  ]
}